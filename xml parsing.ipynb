{
 "cells": [
  {
   "cell_type": "code",
   "execution_count": 48,
   "metadata": {},
   "outputs": [
    {
     "data": {
      "text/plain": [
       "'{\"py/object\": \"untangle.Element\", \"_attributes\": null, \"_name\": null, \"cdata\": \"\", \"children\": [{\"py/object\": \"untangle.Element\", \"_attributes\": {}, \"_name\": \"root\", \"cdata\": \"\\\\n            \\\\n            \\\\n            \\\\n            \\\\n            \\\\n            \\\\n        \", \"children\": [{\"py/object\": \"untangle.Element\", \"_attributes\": {\"name\": \"child1\"}, \"_name\": \"child\", \"cdata\": \"\", \"children\": [], \"is_root\": false}, {\"py/object\": \"untangle.Element\", \"_attributes\": {\"name\": \"child2\"}, \"_name\": \"child\", \"cdata\": \"\", \"children\": [], \"is_root\": false}, {\"py/object\": \"untangle.Element\", \"_attributes\": {\"name\": \"child3\"}, \"_name\": \"child\", \"cdata\": \"\", \"children\": [], \"is_root\": false}, {\"py/object\": \"untangle.Element\", \"_attributes\": {\"age\": \"34\"}, \"_name\": \"parent\", \"cdata\": \"\", \"children\": [], \"is_root\": false}, {\"py/object\": \"untangle.Element\", \"_attributes\": {\"name\": \"parent2\"}, \"_name\": \"parent\", \"cdata\": \"\", \"children\": [], \"is_root\": false}, {\"py/object\": \"untangle.Element\", \"_attributes\": {\"name\": \"parent3\"}, \"_name\": \"parent\", \"cdata\": \"\", \"children\": [], \"is_root\": false}], \"is_root\": false}], \"is_root\": true}'"
      ]
     },
     "execution_count": 48,
     "metadata": {},
     "output_type": "execute_result"
    }
   ],
   "source": [
    "import untangle\n",
    "import jsonpickle\n",
    "\n",
    "xml = '''\n",
    "        <root>\n",
    "            <child name=\"child1\"/>\n",
    "            <child name=\"child2\"/>\n",
    "            <child name=\"child3\"/>\n",
    "            <parent age=\"34\"/>\n",
    "            <parent name=\"parent2\"/>\n",
    "            <parent name=\"parent3\"/>\n",
    "        </root>\n",
    "'''\n",
    "obj = untangle.parse(xml)\n",
    "jsonpickle.encode(obj)"
   ]
  },
  {
   "cell_type": "code",
   "execution_count": 53,
   "metadata": {},
   "outputs": [
    {
     "name": "stdout",
     "output_type": "stream",
     "text": [
      "{\n",
      "  \"root\": {\n",
      "    \"child\": [\n",
      "      {\n",
      "        \"@name\": \"child1\"\n",
      "      },\n",
      "      {\n",
      "        \"@name\": \"child2\"\n",
      "      },\n",
      "      {\n",
      "        \"@name\": \"child3\"\n",
      "      }\n",
      "    ],\n",
      "    \"parent\": [\n",
      "      {\n",
      "        \"@age\": \"34\"\n",
      "      },\n",
      "      {\n",
      "        \"@name\": \"parent2\"\n",
      "      },\n",
      "      {\n",
      "        \"@name\": \"parent3\"\n",
      "      }\n",
      "    ]\n",
      "  }\n",
      "}\n"
     ]
    }
   ],
   "source": [
    "import xmltodict\n",
    "\n",
    "obj = xmltodict.parse(xml)\n",
    "print(json.dumps(obj, indent=2))"
   ]
  }
 ],
 "metadata": {
  "kernelspec": {
   "display_name": "Python 3",
   "language": "python",
   "name": "python3"
  },
  "language_info": {
   "codemirror_mode": {
    "name": "ipython",
    "version": 3
   },
   "file_extension": ".py",
   "mimetype": "text/x-python",
   "name": "python",
   "nbconvert_exporter": "python",
   "pygments_lexer": "ipython3",
   "version": "3.6.4"
  }
 },
 "nbformat": 4,
 "nbformat_minor": 2
}
