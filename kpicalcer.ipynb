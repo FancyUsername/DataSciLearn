{
 "cells": [
  {
   "cell_type": "code",
   "execution_count": 91,
   "metadata": {},
   "outputs": [],
   "source": [
    "import numpy as np\n",
    "import pandas as pd\n",
    "import matplotlib.pyplot as plt\n",
    "%matplotlib inline"
   ]
  },
  {
   "cell_type": "code",
   "execution_count": 92,
   "metadata": {},
   "outputs": [
    {
     "data": {
      "text/plain": [
       "array([ 2,  1, -1, -2,  0,  0,  1,  1, -1, -1,  0, -1, -1,  1,  0, -2,  0,\n",
       "        2,  0, -1,  2, -1,  1,  1,  0,  2,  0, -1,  0, -2, -2, -1, -2,  1,\n",
       "        2,  1,  1,  0,  2, -1,  1, -2,  1, -2, -1, -1,  0,  1,  1,  1,  1,\n",
       "       -1,  1,  1,  0,  1,  2, -2,  2, -2,  1,  2,  1,  0, -2, -1,  1,  2,\n",
       "        0,  1,  0, -2,  2,  2,  0, -1, -2,  0, -1, -2,  0,  2,  1, -1,  2,\n",
       "       -1, -2,  2,  0, -2, -2,  0,  1, -2,  2,  2,  1, -1,  1,  2])"
      ]
     },
     "execution_count": 92,
     "metadata": {},
     "output_type": "execute_result"
    }
   ],
   "source": [
    "sqas = np.random.randint(-2, 3, 100)\n",
    "sqas"
   ]
  },
  {
   "cell_type": "code",
   "execution_count": 89,
   "metadata": {},
   "outputs": [],
   "source": [
    "kpis = {\n",
    "    \"ABC\" : lambda x: len(x[x > 0]),\n",
    "    \"DEF\" : lambda x: np.sum([1 if (x[i-1]<0 and v>0) else 0 for i, v in enumerate(x[1:])])\n",
    "}"
   ]
  },
  {
   "cell_type": "code",
   "execution_count": 90,
   "metadata": {},
   "outputs": [
    {
     "data": {
      "text/plain": [
       "<Container object of 2 artists>"
      ]
     },
     "execution_count": 90,
     "metadata": {},
     "output_type": "execute_result"
    },
    {
     "data": {
      "image/png": "[encoded data removed]",
      "text/plain": [
       "<matplotlib.figure.Figure at 0x11543b128>"
      ]
     },
     "metadata": {},
     "output_type": "display_data"
    }
   ],
   "source": [
    "results = list(map(lambda x: x[1](sqas), kpis.items()))\n",
    "plt.xticks(range(len(kpis)), list(kpis.keys()))\n",
    "plt.bar(range(len(results)), results)"
   ]
  }
 ],
 "metadata": {
  "kernelspec": {
   "display_name": "Python 3",
   "language": "python",
   "name": "python3"
  },
  "language_info": {
   "codemirror_mode": {
    "name": "ipython",
    "version": 3
   },
   "file_extension": ".py",
   "mimetype": "text/x-python",
   "name": "python",
   "nbconvert_exporter": "python",
   "pygments_lexer": "ipython3",
   "version": "3.6.4"
  }
 },
 "nbformat": 4,
 "nbformat_minor": 2
}
