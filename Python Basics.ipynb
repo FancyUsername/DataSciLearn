{
 "cells": [
  {
   "cell_type": "markdown",
   "metadata": {},
   "source": [
    "# Classes"
   ]
  },
  {
   "cell_type": "code",
   "execution_count": 31,
   "metadata": {},
   "outputs": [],
   "source": [
    "import numpy as np\n",
    "import matplotlib.pyplot as plt\n",
    "%matplotlib inline"
   ]
  },
  {
   "cell_type": "code",
   "execution_count": 32,
   "metadata": {},
   "outputs": [
    {
     "data": {
      "text/plain": [
       "<__main__.Peter at 0x10fb467f0>"
      ]
     },
     "execution_count": 32,
     "metadata": {},
     "output_type": "execute_result"
    }
   ],
   "source": [
    "class Peter(object):\n",
    "    def __init__(self, brain=\"empty\"):\n",
    "        self.brain = brain\n",
    "\n",
    "Peter(\"some value\")"
   ]
  },
  {
   "cell_type": "code",
   "execution_count": 33,
   "metadata": {},
   "outputs": [
    {
     "name": "stdout",
     "output_type": "stream",
     "text": [
      "A:  [[9 6]]\n",
      "B:  [[4 7]\n",
      " [7 0]]\n",
      "A * B:  [[36 42]\n",
      " [63  0]]\n"
     ]
    }
   ],
   "source": [
    "A = np.random.randint(0, 10, (1, 2))\n",
    "B = np.random.randint(0, 10, (2, 2))\n",
    "print(\"A: \", A)\n",
    "print(\"B: \", B)\n",
    "print(\"A * B: \", A * B)"
   ]
  },
  {
   "cell_type": "code",
   "execution_count": 75,
   "metadata": {},
   "outputs": [
    {
     "name": "stdout",
     "output_type": "stream",
     "text": [
      "1000\n"
     ]
    },
    {
     "data": {
      "image/png": "[encoded data removed]",
      "text/plain": [
       "<matplotlib.figure.Figure at 0x1136efa90>"
      ]
     },
     "metadata": {},
     "output_type": "display_data"
    }
   ],
   "source": [
    "data = np.sort(np.random.normal(size=10000))\n",
    "plt.axhline(y=np.percentile(data, 10))\n",
    "plt.axhline(y=np.percentile(data, 90))\n",
    "plt.plot(data)\n",
    "print(len(data[data > np.percentile(data, 90)]))"
   ]
  },
  {
   "cell_type": "code",
   "execution_count": null,
   "metadata": {},
   "outputs": [],
   "source": []
  }
 ],
 "metadata": {
  "kernelspec": {
   "display_name": "Python 3",
   "language": "python",
   "name": "python3"
  },
  "language_info": {
   "codemirror_mode": {
    "name": "ipython",
    "version": 3
   },
   "file_extension": ".py",
   "mimetype": "text/x-python",
   "name": "python",
   "nbconvert_exporter": "python",
   "pygments_lexer": "ipython3",
   "version": "3.6.4"
  }
 },
 "nbformat": 4,
 "nbformat_minor": 2
}
