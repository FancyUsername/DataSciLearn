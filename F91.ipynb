{
 "cells": [
  {
   "cell_type": "code",
   "execution_count": 306,
   "metadata": {},
   "outputs": [],
   "source": [
    "import numpy as np\n",
    "import seaborn as sns\n",
    "\n",
    "REL_TYPES = np.arange(-1, 1+2/16, 2/16)"
   ]
  },
  {
   "cell_type": "code",
   "execution_count": 385,
   "metadata": {},
   "outputs": [],
   "source": [
    "def sample_matrix(n = 5):\n",
    "    m = np.random.choice(REL_TYPES, size=(n, n))\n",
    "    m = np.tril(m) + np.tril(m).T\n",
    "    np.fill_diagonal(m, 0)\n",
    "    return m"
   ]
  },
  {
   "cell_type": "code",
   "execution_count": 386,
   "metadata": {
    "scrolled": true
   },
   "outputs": [
    {
     "data": {
      "text/plain": [
       "array([[ 0.   , -0.25 ,  0.125, -0.75 ,  0.375],\n",
       "       [-0.25 ,  0.   , -0.75 ,  0.5  ,  0.   ],\n",
       "       [ 0.125, -0.75 ,  0.   ,  0.75 , -0.5  ],\n",
       "       [-0.75 ,  0.5  ,  0.75 ,  0.   ,  0.25 ],\n",
       "       [ 0.375,  0.   , -0.5  ,  0.25 ,  0.   ]])"
      ]
     },
     "execution_count": 386,
     "metadata": {},
     "output_type": "execute_result"
    }
   ],
   "source": [
    "m = sample_matrix(5)\n",
    "m"
   ]
  },
  {
   "cell_type": "code",
   "execution_count": 387,
   "metadata": {},
   "outputs": [],
   "source": [
    "def f91(rels, g=None):\n",
    "    if g == None:\n",
    "        return [f91(rels, x) for x in range(len(rels))]\n",
    "    elif type(g) == int:\n",
    "        return [g] + [x for x in np.argsort(-rels[g]) if x != g]"
   ]
  },
  {
   "cell_type": "code",
   "execution_count": 388,
   "metadata": {},
   "outputs": [
    {
     "data": {
      "text/plain": [
       "[[0, 4, 2, 1, 3],\n",
       " [1, 3, 4, 0, 2],\n",
       " [2, 3, 0, 4, 1],\n",
       " [3, 2, 1, 4, 0],\n",
       " [4, 0, 3, 1, 2]]"
      ]
     },
     "execution_count": 388,
     "metadata": {},
     "output_type": "execute_result"
    }
   ],
   "source": [
    "mi = f91(m)\n",
    "mi"
   ]
  }
 ],
 "metadata": {
  "kernelspec": {
   "display_name": "Python 3",
   "language": "python",
   "name": "python3"
  },
  "language_info": {
   "codemirror_mode": {
    "name": "ipython",
    "version": 3
   },
   "file_extension": ".py",
   "mimetype": "text/x-python",
   "name": "python",
   "nbconvert_exporter": "python",
   "pygments_lexer": "ipython3",
   "version": "3.6.4"
  }
 },
 "nbformat": 4,
 "nbformat_minor": 2
}
