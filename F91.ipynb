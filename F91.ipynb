{
 "cells": [
  {
   "cell_type": "code",
   "execution_count": 392,
   "metadata": {},
   "outputs": [],
   "source": [
    "import numpy as np\n",
    "import seaborn as sns\n",
    "\n",
    "#install for latex PDF export:\n",
    "#sudo tlmgr install adjustbox\n",
    "#sudo tlmgr install collectbox\n",
    "#sudo tlmgr install ucs\n",
    "#sudo tlmgr install collection-fontsrecommended\n",
    "\n",
    "%matplotlib inline\n",
    "REL_TYPES = np.arange(-1, 1+2/16, 2/16)"
   ]
  },
  {
   "cell_type": "markdown",
   "metadata": {},
   "source": [
    "## Create sample n * n matrix with REL_TYPE samples"
   ]
  },
  {
   "cell_type": "code",
   "execution_count": 385,
   "metadata": {},
   "outputs": [],
   "source": [
    "def sample_matrix(n = 5):\n",
    "    m = np.random.choice(REL_TYPES, size=(n, n))\n",
    "    m = np.tril(m) + np.tril(m).T\n",
    "    np.fill_diagonal(m, 0)\n",
    "    return m"
   ]
  },
  {
   "cell_type": "code",
   "execution_count": 386,
   "metadata": {
    "scrolled": true
   },
   "outputs": [
    {
     "data": {
      "text/plain": [
       "array([[ 0.   , -0.25 ,  0.125, -0.75 ,  0.375],\n",
       "       [-0.25 ,  0.   , -0.75 ,  0.5  ,  0.   ],\n",
       "       [ 0.125, -0.75 ,  0.   ,  0.75 , -0.5  ],\n",
       "       [-0.75 ,  0.5  ,  0.75 ,  0.   ,  0.25 ],\n",
       "       [ 0.375,  0.   , -0.5  ,  0.25 ,  0.   ]])"
      ]
     },
     "execution_count": 386,
     "metadata": {},
     "output_type": "execute_result"
    }
   ],
   "source": [
    "m = sample_matrix(5)\n",
    "m"
   ]
  },
  {
   "cell_type": "markdown",
   "metadata": {},
   "source": [
    "## F91 algorithm\n",
    "Pass in\n",
    "1. g = **None**: all relations as matrix\n",
    "2. g = **int** (index): relations at given index g"
   ]
  },
  {
   "cell_type": "code",
   "execution_count": 387,
   "metadata": {},
   "outputs": [],
   "source": [
    "def f91(rels, g=None):\n",
    "    if g == None:\n",
    "        return [f91(rels, x) for x in range(len(rels))]\n",
    "    elif type(g) == int:\n",
    "        return [g] + [x for x in np.argsort(-rels[g]) if x != g]"
   ]
  },
  {
   "cell_type": "code",
   "execution_count": 389,
   "metadata": {},
   "outputs": [
    {
     "data": {
      "text/plain": [
       "[[0, 4, 2, 1, 3],\n",
       " [1, 3, 4, 0, 2],\n",
       " [2, 3, 0, 4, 1],\n",
       " [3, 2, 1, 4, 0],\n",
       " [4, 0, 3, 1, 2]]"
      ]
     },
     "execution_count": 389,
     "metadata": {},
     "output_type": "execute_result"
    }
   ],
   "source": [
    "mi = f91(m)\n",
    "mi"
   ]
  },
  {
   "cell_type": "code",
   "execution_count": 393,
   "metadata": {},
   "outputs": [
    {
     "data": {
      "text/plain": [
       "<matplotlib.axes._subplots.AxesSubplot at 0x113cb3390>"
      ]
     },
     "execution_count": 393,
     "metadata": {},
     "output_type": "execute_result"
    },
    {
     "data": {
      "image/png": "[encoded data removed]",
      "text/plain": [
       "<matplotlib.figure.Figure at 0x11368a828>"
      ]
     },
     "metadata": {},
     "output_type": "display_data"
    }
   ],
   "source": [
    "sns.heatmap(mi)"
   ]
  }
 ],
 "metadata": {
  "kernelspec": {
   "display_name": "Python 3",
   "language": "python",
   "name": "python3"
  },
  "language_info": {
   "codemirror_mode": {
    "name": "ipython",
    "version": 3
   },
   "file_extension": ".py",
   "mimetype": "text/x-python",
   "name": "python",
   "nbconvert_exporter": "python",
   "pygments_lexer": "ipython3",
   "version": "3.6.4"
  }
 },
 "nbformat": 4,
 "nbformat_minor": 2
}
