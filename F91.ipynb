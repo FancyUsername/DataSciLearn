{
 "cells": [
  {
   "cell_type": "code",
   "execution_count": 97,
   "metadata": {},
   "outputs": [],
   "source": [
    "import numpy as np\n",
    "REL_TYPES = np.arange(-1, 1+2/16, 2/16)"
   ]
  },
  {
   "cell_type": "code",
   "execution_count": 159,
   "metadata": {},
   "outputs": [],
   "source": [
    "def sample_matrix(n = 5):\n",
    "    sample_matrix = np.array(np.random.choice(REL_TYPES.tolist(), n*n)).reshape(n, n)\n",
    "    for i, k in enumerate(sample_matrix):\n",
    "        sample_matrix[i,i+1:] = sample_matrix.T[i,i+1:]\n",
    "    np.fill_diagonal(sample_matrix, 0)\n",
    "    return sample_matrix"
   ]
  },
  {
   "cell_type": "code",
   "execution_count": 263,
   "metadata": {
    "scrolled": true
   },
   "outputs": [
    {
     "data": {
      "text/plain": [
       "array([[ 0.   , -0.625,  0.875,  0.625, -1.   ],\n",
       "       [-0.625,  0.   ,  0.625,  0.125, -0.875],\n",
       "       [ 0.875,  0.625,  0.   ,  1.   , -1.   ],\n",
       "       [ 0.625,  0.125,  1.   ,  0.   , -0.25 ],\n",
       "       [-1.   , -0.875, -1.   , -0.25 ,  0.   ]])"
      ]
     },
     "execution_count": 263,
     "metadata": {},
     "output_type": "execute_result"
    }
   ],
   "source": [
    "m = sample_matrix()\n",
    "m"
   ]
  },
  {
   "cell_type": "code",
   "execution_count": 264,
   "metadata": {},
   "outputs": [],
   "source": [
    "def f91(rels, g):\n",
    "    return [g] + [x for x in np.argsort(-rels[g]) if x != g]"
   ]
  },
  {
   "cell_type": "code",
   "execution_count": 265,
   "metadata": {},
   "outputs": [
    {
     "name": "stdout",
     "output_type": "stream",
     "text": [
      "[0, 2, 3, 1, 4]\n"
     ]
    }
   ],
   "source": [
    "ord = f91(m, 0)\n",
    "print(ord)"
   ]
  },
  {
   "cell_type": "code",
   "execution_count": null,
   "metadata": {},
   "outputs": [],
   "source": []
  }
 ],
 "metadata": {
  "kernelspec": {
   "display_name": "Python 3",
   "language": "python",
   "name": "python3"
  },
  "language_info": {
   "codemirror_mode": {
    "name": "ipython",
    "version": 3
   },
   "file_extension": ".py",
   "mimetype": "text/x-python",
   "name": "python",
   "nbconvert_exporter": "python",
   "pygments_lexer": "ipython3",
   "version": "3.6.4"
  }
 },
 "nbformat": 4,
 "nbformat_minor": 2
}
