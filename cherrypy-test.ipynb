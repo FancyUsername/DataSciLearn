{
 "cells": [
  {
   "cell_type": "code",
   "execution_count": 42,
   "metadata": {},
   "outputs": [],
   "source": [
    "import requests\n",
    "import json\n",
    "from dotmap import DotMap\n",
    "\n",
    "BASEPATH = \"http://127.0.0.1:8080/helloworld/\"\n",
    "\n",
    "def jsonparse(response):\n",
    "    return json.loads(response.content.decode(\"utf-8\"))\n",
    "\n",
    "def httpget(path, baseurl=BASEPATH):\n",
    "    return jsonparse(requests.get(baseurl + path))\n",
    "\n",
    "def httppost(path, data, baseurl=BASEPATH):\n",
    "    return jsonparse(requests.post(baseurl + path, data=data))\n",
    "\n",
    "def jprint(data):\n",
    "    return print(json.dumps(data, indent=2))"
   ]
  },
  {
   "cell_type": "code",
   "execution_count": 52,
   "metadata": {},
   "outputs": [
    {
     "name": "stdout",
     "output_type": "stream",
     "text": [
      "{\n",
      "    \"abc\": \"def\",\n",
      "    \"hui\": [\n",
      "        \"boo\",\n",
      "        {\n",
      "            \"asd\": \"123\"\n",
      "        },\n",
      "        \"mcmcm\"\n",
      "    ]\n",
      "}\n",
      "{\n",
      "    \"hurrz\": \"hello world\",\n",
      "    \"py/object\": \"__main__.TestObj\"\n",
      "}\n"
     ]
    }
   ],
   "source": [
    "records = DotMap(httpget(\"test\"))\n",
    "records.pprint(\"json\")\n",
    "DotMap(httpget(\"test2\")).pprint(\"json\")"
   ]
  },
  {
   "cell_type": "code",
   "execution_count": null,
   "metadata": {},
   "outputs": [],
   "source": []
  }
 ],
 "metadata": {
  "kernelspec": {
   "display_name": "Python 3",
   "language": "python",
   "name": "python3"
  },
  "language_info": {
   "codemirror_mode": {
    "name": "ipython",
    "version": 3
   },
   "file_extension": ".py",
   "mimetype": "text/x-python",
   "name": "python",
   "nbconvert_exporter": "python",
   "pygments_lexer": "ipython3",
   "version": "3.6.4"
  }
 },
 "nbformat": 4,
 "nbformat_minor": 2
}
